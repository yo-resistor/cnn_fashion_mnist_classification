{
 "cells": [
  {
   "cell_type": "markdown",
   "metadata": {},
   "source": [
    "# Objective: Convolutional Neural Network Classification Using Fashion MNIST\n",
    "Here, I'm going to build an convolutional neural network classification model using PyTorch using fashion MNIST training data set."
   ]
  },
  {
   "cell_type": "markdown",
   "metadata": {},
   "source": [
    "## Import Libraries"
   ]
  },
  {
   "cell_type": "code",
   "execution_count": 1,
   "metadata": {},
   "outputs": [],
   "source": [
    "\n",
    "import torch\n",
    "import torch.nn as nn\n",
    "import torch.utils\n",
    "import torchvision\n",
    "import torchvision.transforms as transforms\n",
    "import numpy as np\n",
    "import matplotlib.pyplot as plt\n",
    "from datetime import datetime"
   ]
  },
  {
   "cell_type": "markdown",
   "metadata": {},
   "source": [
    "## Load Data\n",
    "This covers how to download the data and load the data into the code."
   ]
  },
  {
   "cell_type": "code",
   "execution_count": 2,
   "metadata": {},
   "outputs": [],
   "source": [
    "# load train dataset\n",
    "train_dataset = torchvision.datasets.FashionMNIST(\n",
    "    root='.',\n",
    "    train=True,\n",
    "    transform=transforms.ToTensor(),\n",
    "    download=True\n",
    ")"
   ]
  },
  {
   "cell_type": "code",
   "execution_count": 3,
   "metadata": {},
   "outputs": [
    {
     "data": {
      "text/plain": [
       "tensor([9, 0, 0,  ..., 3, 0, 5])"
      ]
     },
     "execution_count": 3,
     "metadata": {},
     "output_type": "execute_result"
    }
   ],
   "source": [
    "# analyze train dataset\n",
    "train_dataset.data.max()\n",
    "train_dataset.data.shape\n",
    "train_dataset.targets"
   ]
  },
  {
   "cell_type": "code",
   "execution_count": 4,
   "metadata": {},
   "outputs": [],
   "source": [
    "# load test dataset\n",
    "test_dataset = torchvision.datasets.FashionMNIST(\n",
    "    root='.',\n",
    "    train=False,\n",
    "    transform=transforms.ToTensor(),\n",
    "    download=False\n",
    ")"
   ]
  },
  {
   "cell_type": "markdown",
   "metadata": {},
   "source": [
    "## Preprocess Data\n",
    "This covers how to create batch using DataLoader."
   ]
  },
  {
   "cell_type": "code",
   "execution_count": 5,
   "metadata": {},
   "outputs": [
    {
     "name": "stdout",
     "output_type": "stream",
     "text": [
      "The number of classes: 10\n"
     ]
    }
   ],
   "source": [
    "# get number of classes\n",
    "K = len(set(train_dataset.targets.numpy()))\n",
    "print(f\"The number of classes: {K}\")"
   ]
  },
  {
   "cell_type": "code",
   "execution_count": 6,
   "metadata": {},
   "outputs": [
    {
     "data": {
      "text/plain": [
       "tensor(1.)"
      ]
     },
     "execution_count": 6,
     "metadata": {},
     "output_type": "execute_result"
    }
   ],
   "source": [
    "# confirm whether the data is normalized or not\n",
    "train_dataset.transform(train_dataset.data.numpy()).max()"
   ]
  },
  {
   "cell_type": "code",
   "execution_count": 7,
   "metadata": {},
   "outputs": [],
   "source": [
    "# dataloader to automatically generate batches in the training loop with shuffling\n",
    "batch_size = 128\n",
    "train_loader = torch.utils.data.DataLoader(dataset=train_dataset, \n",
    "                                           batch_size=batch_size,\n",
    "                                           shuffle=True)\n",
    "test_loader = torch.utils.data.DataLoader(dataset=test_dataset,\n",
    "                                          batch_size=batch_size,\n",
    "                                          shuffle=False)"
   ]
  },
  {
   "cell_type": "code",
   "execution_count": 8,
   "metadata": {},
   "outputs": [
    {
     "name": "stdout",
     "output_type": "stream",
     "text": [
      "tensor([[[[0.0000, 0.0000, 0.0000, 0.0000, 0.0000, 0.0000, 0.0000, 0.0000,\n",
      "           0.0000, 0.0000, 0.0000, 0.0000, 0.0000, 0.0000, 0.0000, 0.0000,\n",
      "           0.0000, 0.0000, 0.0000, 0.0000, 0.0000, 0.0000, 0.0000, 0.0000,\n",
      "           0.0000, 0.0000, 0.0000, 0.0000],\n",
      "          [0.0000, 0.0000, 0.0000, 0.0000, 0.0000, 0.0000, 0.0000, 0.0000,\n",
      "           0.0000, 0.0000, 0.0000, 0.0000, 0.0000, 0.0000, 0.0000, 0.0000,\n",
      "           0.0000, 0.0000, 0.0000, 0.0000, 0.0000, 0.0000, 0.0000, 0.0000,\n",
      "           0.0000, 0.0000, 0.0000, 0.0000],\n",
      "          [0.0000, 0.0000, 0.0000, 0.0000, 0.0000, 0.0000, 0.0000, 0.0000,\n",
      "           0.0000, 0.0000, 0.0000, 0.0000, 0.0000, 0.0000, 0.0000, 0.0000,\n",
      "           0.0000, 0.0000, 0.0000, 0.0000, 0.0000, 0.0000, 0.0000, 0.0000,\n",
      "           0.0000, 0.0000, 0.0000, 0.0000],\n",
      "          [0.0000, 0.0000, 0.0000, 0.0000, 0.0000, 0.0000, 0.0000, 0.0000,\n",
      "           0.0000, 0.0000, 0.0000, 0.0000, 0.0000, 0.0000, 0.0000, 0.0000,\n",
      "           0.0000, 0.0000, 0.0000, 0.0000, 0.0000, 0.0000, 0.0000, 0.0000,\n",
      "           0.0000, 0.0000, 0.0000, 0.0000],\n",
      "          [0.0000, 0.0000, 0.0000, 0.0000, 0.0000, 0.0000, 0.0000, 0.0000,\n",
      "           0.0000, 0.0000, 0.0000, 0.0000, 0.0000, 0.0000, 0.0000, 0.0000,\n",
      "           0.0000, 0.0000, 0.0000, 0.0000, 0.0000, 0.0000, 0.0000, 0.0000,\n",
      "           0.0000, 0.0000, 0.0000, 0.0000],\n",
      "          [0.0000, 0.0000, 0.0000, 0.0000, 0.0000, 0.0000, 0.0000, 0.0000,\n",
      "           0.0000, 0.0000, 0.0000, 0.0000, 0.0000, 0.0000, 0.0000, 0.0000,\n",
      "           0.0000, 0.0000, 0.0000, 0.0000, 0.0000, 0.0000, 0.0000, 0.0000,\n",
      "           0.0000, 0.0000, 0.0000, 0.0000],\n",
      "          [0.0000, 0.0000, 0.0000, 0.0000, 0.0000, 0.0000, 0.0000, 0.0000,\n",
      "           0.0000, 0.0000, 0.0000, 0.0000, 0.0000, 0.0000, 0.0000, 0.0000,\n",
      "           0.0000, 0.0000, 0.0000, 0.7529, 0.1843, 0.0000, 0.0000, 0.0000,\n",
      "           0.0118, 0.0000, 0.0000, 0.0000],\n",
      "          [0.0000, 0.0000, 0.0000, 0.0000, 0.0000, 0.0000, 0.0000, 0.0000,\n",
      "           0.0000, 0.0000, 0.0000, 0.0000, 0.0000, 0.0078, 0.0118, 0.0000,\n",
      "           0.0000, 0.0784, 0.3098, 0.8039, 0.7373, 0.3922, 0.0000, 0.0000,\n",
      "           0.0000, 0.0000, 0.0000, 0.0000],\n",
      "          [0.0000, 0.0000, 0.0000, 0.0000, 0.0000, 0.0000, 0.0000, 0.0000,\n",
      "           0.0000, 0.0000, 0.0000, 0.0000, 0.0000, 0.0039, 0.0000, 0.0000,\n",
      "           0.3804, 0.7176, 0.5490, 0.7569, 0.8824, 0.6549, 0.0000, 0.0000,\n",
      "           0.1765, 0.0000, 0.0000, 0.0000],\n",
      "          [0.0000, 0.0000, 0.0000, 0.0000, 0.0000, 0.0000, 0.0000, 0.0000,\n",
      "           0.0000, 0.0000, 0.0000, 0.0000, 0.0000, 0.0039, 0.0000, 0.0314,\n",
      "           0.7490, 0.4588, 0.7098, 0.7098, 0.6824, 0.7020, 0.3686, 0.8235,\n",
      "           0.8902, 0.0000, 0.0000, 0.0000],\n",
      "          [0.0000, 0.0000, 0.0000, 0.0000, 0.0000, 0.0000, 0.0000, 0.0000,\n",
      "           0.0000, 0.0000, 0.0000, 0.0000, 0.0000, 0.0000, 0.0000, 0.4078,\n",
      "           0.4314, 0.7020, 0.8039, 0.7725, 0.6471, 0.6275, 0.7137, 0.9137,\n",
      "           0.7961, 0.0235, 0.0000, 0.0039],\n",
      "          [0.0000, 0.0000, 0.0000, 0.0000, 0.0000, 0.0000, 0.0000, 0.0000,\n",
      "           0.0000, 0.0000, 0.0000, 0.0000, 0.0000, 0.0000, 0.3686, 0.5725,\n",
      "           0.7608, 0.8392, 0.6431, 0.6471, 0.7882, 0.7882, 0.5608, 0.6510,\n",
      "           0.6667, 0.1804, 0.0000, 0.0000],\n",
      "          [0.0000, 0.0000, 0.0039, 0.0000, 0.0000, 0.0000, 0.0039, 0.0000,\n",
      "           0.0000, 0.0078, 0.0039, 0.0000, 0.0000, 0.4000, 0.5569, 0.6902,\n",
      "           0.9176, 0.5765, 0.6000, 0.7529, 0.9922, 0.7373, 0.7333, 0.6157,\n",
      "           0.7020, 0.5686, 0.0000, 0.0000],\n",
      "          [0.0000, 0.0000, 0.0000, 0.0000, 0.0000, 0.0000, 0.0000, 0.0000,\n",
      "           0.0118, 0.0000, 0.0000, 0.0000, 0.4078, 0.5137, 0.6902, 0.8627,\n",
      "           0.5608, 0.5569, 0.8824, 1.0000, 0.7176, 0.6902, 0.6549, 0.6392,\n",
      "           0.6824, 0.8314, 0.0078, 0.0000],\n",
      "          [0.0000, 0.0000, 0.0000, 0.0000, 0.0000, 0.0000, 0.0078, 0.0000,\n",
      "           0.0000, 0.0000, 0.0588, 0.4902, 0.5725, 0.7176, 0.8314, 0.4745,\n",
      "           0.4314, 0.7882, 0.9725, 0.6667, 0.6000, 0.7333, 0.6118, 0.6824,\n",
      "           0.6471, 0.7333, 0.2471, 0.0000],\n",
      "          [0.0000, 0.0039, 0.0078, 0.0039, 0.0039, 0.0000, 0.0000, 0.0000,\n",
      "           0.0902, 0.3059, 0.5059, 0.5020, 0.6863, 0.7137, 0.4196, 0.4980,\n",
      "           0.6863, 0.9412, 0.6392, 0.6431, 0.6235, 0.8275, 0.8157, 0.5843,\n",
      "           0.5608, 0.7373, 0.5294, 0.0000],\n",
      "          [0.0039, 0.0000, 0.0000, 0.0000, 0.0000, 0.0000, 0.0431, 0.5647,\n",
      "           0.3059, 0.4941, 0.6353, 0.7686, 0.5176, 0.3961, 0.5922, 0.8471,\n",
      "           0.9020, 0.5608, 0.6196, 0.5216, 0.4588, 0.7333, 0.5176, 0.4824,\n",
      "           0.6941, 0.7098, 0.6902, 0.0000],\n",
      "          [0.0000, 0.0235, 0.1020, 0.0667, 0.0000, 0.2039, 0.5412, 0.4902,\n",
      "           0.3098, 0.5490, 0.5569, 0.1765, 0.3216, 0.4196, 0.8314, 0.9216,\n",
      "           0.5608, 0.6078, 0.5608, 0.4157, 0.4941, 0.4314, 0.1961, 0.4941,\n",
      "           0.7412, 0.6471, 0.6549, 0.0353],\n",
      "          [0.0588, 0.4157, 0.3216, 0.2941, 0.2863, 0.3922, 0.4000, 0.3725,\n",
      "           0.4667, 0.4078, 0.2784, 0.3569, 0.6000, 0.6275, 0.6039, 0.6510,\n",
      "           0.7255, 0.7294, 0.7059, 0.7098, 0.6667, 0.6510, 0.6902, 0.6196,\n",
      "           0.5176, 0.4627, 0.6314, 0.1333],\n",
      "          [0.2118, 0.4941, 0.4000, 0.3490, 0.4196, 0.4627, 0.5137, 0.5333,\n",
      "           0.4784, 0.3725, 0.3059, 0.3647, 0.4118, 0.5333, 0.5961, 0.6392,\n",
      "           0.6118, 0.6431, 0.5765, 0.5686, 0.5765, 0.5412, 0.5333, 0.4588,\n",
      "           0.5137, 0.4314, 0.7137, 0.3529],\n",
      "          [0.1765, 0.5922, 0.5882, 0.5059, 0.4863, 0.6039, 0.6000, 0.5059,\n",
      "           0.4745, 0.5333, 0.5804, 0.6039, 0.5765, 0.5490, 0.5020, 0.4549,\n",
      "           0.4863, 0.4980, 0.4627, 0.4784, 0.4275, 0.3961, 0.4118, 0.3725,\n",
      "           0.4824, 0.4235, 0.7804, 0.3176],\n",
      "          [0.0000, 0.4902, 0.5686, 0.6078, 0.6549, 0.5451, 0.5922, 0.5843,\n",
      "           0.6000, 0.6353, 0.6314, 0.5922, 0.5608, 0.5765, 0.5882, 0.6039,\n",
      "           0.6000, 0.6157, 0.6353, 0.5961, 0.5569, 0.5451, 0.6078, 0.6667,\n",
      "           0.7333, 0.7059, 0.8667, 0.0471],\n",
      "          [0.0000, 0.0000, 0.0000, 0.1451, 0.3451, 0.3961, 0.4784, 0.5725,\n",
      "           0.6353, 0.6392, 0.6510, 0.6667, 0.6706, 0.7373, 0.7490, 0.7529,\n",
      "           0.7451, 0.7608, 0.7843, 0.7725, 0.7922, 0.8078, 0.8314, 0.7373,\n",
      "           0.6039, 0.5804, 0.2902, 0.0000],\n",
      "          [0.0000, 0.0000, 0.0000, 0.0000, 0.0000, 0.0000, 0.0000, 0.0000,\n",
      "           0.0000, 0.0000, 0.0000, 0.0000, 0.0000, 0.0000, 0.0000, 0.0000,\n",
      "           0.0000, 0.0000, 0.0000, 0.0000, 0.0000, 0.0000, 0.0000, 0.0000,\n",
      "           0.0000, 0.0000, 0.0000, 0.0000],\n",
      "          [0.0000, 0.0000, 0.0000, 0.0000, 0.0000, 0.0000, 0.0000, 0.0000,\n",
      "           0.0000, 0.0000, 0.0000, 0.0000, 0.0000, 0.0000, 0.0000, 0.0000,\n",
      "           0.0000, 0.0000, 0.0000, 0.0000, 0.0000, 0.0000, 0.0000, 0.0000,\n",
      "           0.0000, 0.0000, 0.0000, 0.0000],\n",
      "          [0.0000, 0.0000, 0.0000, 0.0000, 0.0000, 0.0000, 0.0000, 0.0000,\n",
      "           0.0000, 0.0000, 0.0000, 0.0000, 0.0000, 0.0000, 0.0000, 0.0000,\n",
      "           0.0000, 0.0000, 0.0000, 0.0000, 0.0000, 0.0000, 0.0000, 0.0000,\n",
      "           0.0000, 0.0000, 0.0000, 0.0000],\n",
      "          [0.0000, 0.0000, 0.0000, 0.0000, 0.0000, 0.0000, 0.0000, 0.0000,\n",
      "           0.0000, 0.0000, 0.0000, 0.0000, 0.0000, 0.0000, 0.0000, 0.0000,\n",
      "           0.0000, 0.0000, 0.0000, 0.0000, 0.0000, 0.0000, 0.0000, 0.0000,\n",
      "           0.0000, 0.0000, 0.0000, 0.0000],\n",
      "          [0.0000, 0.0000, 0.0000, 0.0000, 0.0000, 0.0000, 0.0000, 0.0000,\n",
      "           0.0000, 0.0000, 0.0000, 0.0000, 0.0000, 0.0000, 0.0000, 0.0000,\n",
      "           0.0000, 0.0000, 0.0000, 0.0000, 0.0000, 0.0000, 0.0000, 0.0000,\n",
      "           0.0000, 0.0000, 0.0000, 0.0000]]]])\n",
      "torch.Size([1, 1, 28, 28])\n",
      "tensor([7])\n",
      "torch.Size([1])\n"
     ]
    }
   ],
   "source": [
    "# understand DataLoader better\n",
    "tmp_loader = torch.utils.data.DataLoader(dataset=train_dataset, \n",
    "                                         batch_size=1, \n",
    "                                         shuffle=True)\n",
    "for x, y in tmp_loader:\n",
    "    print(x)\n",
    "    print(x.shape)\n",
    "    print(y)\n",
    "    print(y.shape)\n",
    "    break"
   ]
  },
  {
   "cell_type": "markdown",
   "metadata": {},
   "source": [
    "## Build Model\n",
    "This covers how to build a convolutional neural network classification model using fashion MNIST dataset to train. Since the dataset is big enough, we can use GPU for faster process if available."
   ]
  },
  {
   "cell_type": "code",
   "execution_count": 9,
   "metadata": {},
   "outputs": [],
   "source": [
    "# define the model\n",
    "class CNN(nn.Module):\n",
    "    def __init__(self, K):\n",
    "        super(CNN, self).__init__()\n",
    "        self.conv_layers = nn.Sequential(\n",
    "            nn.Conv2d(in_channels=1, out_channels=32, kernel_size=3, stride=2),\n",
    "            # grayscale -> in_channels=1\n",
    "            # stride=2 -> no more pooling needed\n",
    "            # default padding (k) is 0\n",
    "            # default dialation (d) is 1\n",
    "            # H_out = floor[(H_in + 2*p - d(k-1) - 1)/2 + 1] = 13\n",
    "            # image will be 28X28 -> 13X13\n",
    "            nn.ReLU(),\n",
    "            nn.Conv2d(in_channels=32, out_channels=64, kernel_size=3, stride=2),\n",
    "            # image size = 13X13 -> 6X6\n",
    "            nn.ReLU(),\n",
    "            nn.Conv2d(in_channels=64, out_channels=128, kernel_size=3, stride=2),\n",
    "            # image size = 6X6 -> 2X2\n",
    "            nn.ReLU()\n",
    "        )\n",
    "        # image size through conv layer: 28X28 -> 2X2\n",
    "        self.dense_layers = nn.Sequential(\n",
    "            nn.Dropout(0.2),\n",
    "            nn.Linear(128 * 2 * 2, 512),\n",
    "            # input vector: 128 feature maps and each map's image is 2X2\n",
    "            nn.ReLU(),\n",
    "            nn.Dropout(0.2),\n",
    "            nn.Linear(512, K)\n",
    "        )\n",
    "        \n",
    "    def forward(self, X):\n",
    "        out = self.conv_layers(X)\n",
    "        out = out.view(out.size(0), -1)\n",
    "        # out.size(0) is the batch size to make -1 as 128 * 2 * 2\n",
    "        out = self.dense_layers(out)\n",
    "        return out\n",
    "\n",
    "model = CNN(K)"
   ]
  },
  {
   "cell_type": "code",
   "execution_count": 10,
   "metadata": {},
   "outputs": [],
   "source": [
    "# same model with different structure\n",
    "# model = nn.Sequential(\n",
    "#     nn.Conv2d(in_channels=1, out_channels=32, kernel_size=3, stride=2),\n",
    "#     nn.ReLU(),\n",
    "#     nn.Conv2d(in_channels=32, out_channels=64, kernel_size=3, stride=2),\n",
    "#     nn.ReLU(),\n",
    "#     nn.Conv2d(in_channels=64, out_channels=128, kernel_size=3, stride=2),\n",
    "#     nn.ReLU(),\n",
    "#     nn.Flatten(),\n",
    "#     nn.Dropout(0.2),\n",
    "#     nn.Linear(128 * 2 * 2, 512),\n",
    "#     nn.ReLU(),\n",
    "#     nn.Dropout(0.2),\n",
    "#     nn.Linear(512, K)\n",
    "# )"
   ]
  },
  {
   "cell_type": "code",
   "execution_count": 11,
   "metadata": {},
   "outputs": [
    {
     "name": "stdout",
     "output_type": "stream",
     "text": [
      "cuda:0\n"
     ]
    },
    {
     "data": {
      "text/plain": [
       "CNN(\n",
       "  (conv_layers): Sequential(\n",
       "    (0): Conv2d(1, 32, kernel_size=(3, 3), stride=(2, 2))\n",
       "    (1): ReLU()\n",
       "    (2): Conv2d(32, 64, kernel_size=(3, 3), stride=(2, 2))\n",
       "    (3): ReLU()\n",
       "    (4): Conv2d(64, 128, kernel_size=(3, 3), stride=(2, 2))\n",
       "    (5): ReLU()\n",
       "  )\n",
       "  (dense_layers): Sequential(\n",
       "    (0): Dropout(p=0.2, inplace=False)\n",
       "    (1): Linear(in_features=512, out_features=512, bias=True)\n",
       "    (2): ReLU()\n",
       "    (3): Dropout(p=0.2, inplace=False)\n",
       "    (4): Linear(in_features=512, out_features=10, bias=True)\n",
       "  )\n",
       ")"
      ]
     },
     "execution_count": 11,
     "metadata": {},
     "output_type": "execute_result"
    }
   ],
   "source": [
    "# activate gpu if possible\n",
    "device = torch.device(\"cuda:0\" if torch.cuda.is_available() else \"cpu\")\n",
    "print(device)\n",
    "\n",
    "# send the model details to the device\n",
    "model.to(device)"
   ]
  },
  {
   "cell_type": "code",
   "execution_count": 12,
   "metadata": {},
   "outputs": [],
   "source": [
    "# loss function and optimizer\n",
    "criterion = nn.CrossEntropyLoss()\n",
    "optimizer = torch.optim.Adam(model.parameters())"
   ]
  },
  {
   "cell_type": "markdown",
   "metadata": {},
   "source": [
    "## Training\n",
    "This covers how to train the convolutional neural network classification model with the input data that we processed."
   ]
  },
  {
   "cell_type": "code",
   "execution_count": 13,
   "metadata": {},
   "outputs": [],
   "source": [
    "# build a function for training using batch gradient descent\n",
    "def batch_gd(model, criterion, optimizer, train_loader, test_loader, epochs):\n",
    "    # losses will be stored to plot the results\n",
    "    # storage for losses per each epoch\n",
    "    train_losses = np.zeros(epochs)\n",
    "    test_losses = np.zeros(epochs)\n",
    "    \n",
    "    for epoch in range(epochs):\n",
    "        # train mode\n",
    "        model.train()\n",
    "        # details: https://pytorch.org/docs/stable/_modules/torch/nn/modules/module.html#Module.train\n",
    "        # details: https://medium.com/jun94-devpblog/pytorch-6-model-train-vs-model-eval-no-grad-hyperparameter-tuning-3812c216a3bd\n",
    "        t0 = datetime.now()     # set the first timestamp\n",
    "        train_loss = []\n",
    "        for inputs, targets in train_loader:\n",
    "            # move data to the designated device\n",
    "            inputs, targets = inputs.to(device), targets.to(device)\n",
    "            \n",
    "            # zero the parameter gradients to make sure they are zero\n",
    "            optimizer.zero_grad()\n",
    "            \n",
    "            # forward pass\n",
    "            outputs = model(inputs)\n",
    "            loss = criterion(outputs, targets)\n",
    "            \n",
    "            # backward and optimize\n",
    "            loss.backward()\n",
    "            optimizer.step()\n",
    "            \n",
    "            # save the loss\n",
    "            train_loss.append(loss.item())\n",
    "            \n",
    "        ## get train loss per epoch as average loss of all the batches in that epoch\n",
    "        train_loss = np.mean(train_loss)\n",
    "        train_losses[epoch] = train_loss\n",
    "        \n",
    "        # test mode\n",
    "        model.eval()\n",
    "        test_loss = []\n",
    "        for inputs, targets in test_loader:\n",
    "            inputs, targets = inputs.to(device), targets.to(device)\n",
    "            outputs = model(inputs)\n",
    "            loss = criterion(outputs, targets)\n",
    "            test_loss.append(loss.item())\n",
    "        test_loss = np.mean(test_loss)\n",
    "        test_losses[epoch] = test_loss\n",
    "        \n",
    "        dt = datetime.now() - t0      # calculate time spent\n",
    "        # print out the result\n",
    "        print(f\"Epoch {epoch+1}/{epochs}, Train loss: {train_loss:.4f}, Test loss: {test_loss:.4f}, Duration: {dt}\")\n",
    "        \n",
    "    return train_losses, test_losses"
   ]
  },
  {
   "cell_type": "code",
   "execution_count": 14,
   "metadata": {},
   "outputs": [
    {
     "name": "stdout",
     "output_type": "stream",
     "text": [
      "Epoch 1/15, Train loss: 0.6441, Test loss: 0.4567, Duration: 0:00:04.218331\n",
      "Epoch 2/15, Train loss: 0.4184, Test loss: 0.3981, Duration: 0:00:04.017202\n",
      "Epoch 3/15, Train loss: 0.3640, Test loss: 0.3519, Duration: 0:00:04.019933\n",
      "Epoch 4/15, Train loss: 0.3242, Test loss: 0.3309, Duration: 0:00:04.019065\n",
      "Epoch 5/15, Train loss: 0.2991, Test loss: 0.3108, Duration: 0:00:04.039396\n",
      "Epoch 6/15, Train loss: 0.2773, Test loss: 0.2983, Duration: 0:00:04.023069\n",
      "Epoch 7/15, Train loss: 0.2596, Test loss: 0.2880, Duration: 0:00:04.018308\n",
      "Epoch 8/15, Train loss: 0.2434, Test loss: 0.2831, Duration: 0:00:04.022571\n",
      "Epoch 9/15, Train loss: 0.2273, Test loss: 0.2735, Duration: 0:00:04.018290\n",
      "Epoch 10/15, Train loss: 0.2126, Test loss: 0.3009, Duration: 0:00:04.018137\n",
      "Epoch 11/15, Train loss: 0.2003, Test loss: 0.2842, Duration: 0:00:04.029977\n",
      "Epoch 12/15, Train loss: 0.1898, Test loss: 0.2806, Duration: 0:00:04.048660\n",
      "Epoch 13/15, Train loss: 0.1777, Test loss: 0.2775, Duration: 0:00:04.020874\n",
      "Epoch 14/15, Train loss: 0.1678, Test loss: 0.2909, Duration: 0:00:04.022991\n",
      "Epoch 15/15, Train loss: 0.1548, Test loss: 0.2997, Duration: 0:00:04.025006\n"
     ]
    }
   ],
   "source": [
    "# get the result\n",
    "train_losses, test_losses = batch_gd(\n",
    "    model, criterion, optimizer, train_loader, test_loader, epochs=15\n",
    ")"
   ]
  },
  {
   "cell_type": "markdown",
   "metadata": {},
   "source": [
    "## Result\n",
    "This shows the result of the convolutional neural network classification model by showing the loss evolution and calculating the accuracy of the model."
   ]
  },
  {
   "cell_type": "code",
   "execution_count": 15,
   "metadata": {},
   "outputs": [
    {
     "data": {
      "image/png": "[encoded data removed]",
      "text/plain": [
       "<Figure size 640x480 with 1 Axes>"
      ]
     },
     "metadata": {},
     "output_type": "display_data"
    }
   ],
   "source": [
    "# plot the train loss and test loss per iteration\n",
    "plt.plot(train_losses, label=\"Train loss\")\n",
    "plt.plot(test_losses, label=\"Test loss\")\n",
    "plt.legend()\n",
    "plt.show()"
   ]
  },
  {
   "cell_type": "code",
   "execution_count": 16,
   "metadata": {},
   "outputs": [
    {
     "name": "stdout",
     "output_type": "stream",
     "text": [
      "Train accuracy: 0.9584, Test accuracy: 0.9023\n"
     ]
    }
   ],
   "source": [
    "# calculate accuracy\n",
    "# training accuracy\n",
    "model.eval()    # we are not training anymore. we are just calculating the accuracy of training set inference\n",
    "n_correct = 0.\n",
    "n_total = 0.\n",
    "\n",
    "for inputs, targets in train_loader:\n",
    "    # move data to device\n",
    "    inputs, targets = inputs.to(device), targets.to(device)\n",
    "    \n",
    "    # forward pass\n",
    "    outputs = model(inputs)\n",
    "    \n",
    "    # get prediction by returning maximum value label\n",
    "    _, predictions = torch.max(outputs, 1)\n",
    "    \n",
    "    # update counts\n",
    "    n_correct += (predictions == targets).sum().item()\n",
    "    n_total += targets.shape[0]\n",
    "\n",
    "# calculate training accuracy\n",
    "train_acc = n_correct / n_total\n",
    "\n",
    "# test accuracy\n",
    "n_correct = 0.\n",
    "n_total = 0.\n",
    "\n",
    "for inputs, targets in test_loader:\n",
    "    inputs, targets = inputs.to(device), targets.to(device)\n",
    "    outputs = model(inputs)\n",
    "    _, predictions = torch.max(outputs, 1)\n",
    "    n_correct += (predictions == targets).sum().item()\n",
    "    n_total += targets.shape[0]\n",
    "\n",
    "# calculate test accuracy\n",
    "test_acc = n_correct / n_total\n",
    "\n",
    "# print the result\n",
    "print(f\"Train accuracy: {train_acc:.4f}, Test accuracy: {test_acc:.4f}\")"
   ]
  },
  {
   "cell_type": "markdown",
   "metadata": {},
   "source": [
    "## Apendix: Confusion Matrix\n",
    "This covers how to plot confusion matrix using the results that we got above."
   ]
  },
  {
   "cell_type": "code",
   "execution_count": 17,
   "metadata": {},
   "outputs": [],
   "source": [
    "# import libraries to plot confusion matrix\n",
    "from sklearn.metrics import confusion_matrix\n",
    "import itertools\n",
    "\n",
    "# function to plot confusion matrix\n",
    "def plot_confusion_matrix(cm, classes,\n",
    "                          normalize=False,\n",
    "                          title='Confusion matrix',\n",
    "                          cmap=plt.cm.Blues):\n",
    "    \"\"\"\n",
    "    This function prints and plots the confusion matrix.\n",
    "    Normalization can be applied by setting `normalize=True`.\n",
    "    \"\"\"\n",
    "    if normalize:\n",
    "        cm = cm.astype('float') / cm.sum(axis=1)[:, np.newaxis]\n",
    "        print(\"Normalized confusion matrix\")\n",
    "    else:\n",
    "        print('Confusion matrix, without normalization')\n",
    "\n",
    "    print(cm)\n",
    "\n",
    "    plt.imshow(cm, interpolation='nearest', cmap=cmap)\n",
    "    plt.title(title)\n",
    "    plt.colorbar()\n",
    "    tick_marks = np.arange(len(classes))\n",
    "    plt.xticks(tick_marks, classes, rotation=45)\n",
    "    plt.yticks(tick_marks, classes)\n",
    "\n",
    "    fmt = '.2f' if normalize else 'd'\n",
    "    thresh = cm.max() / 2.\n",
    "    for i, j in itertools.product(range(cm.shape[0]), range(cm.shape[1])):\n",
    "        plt.text(j, i, format(cm[i, j], fmt),\n",
    "                horizontalalignment=\"center\",\n",
    "                color=\"white\" if cm[i, j] > thresh else \"black\")\n",
    "\n",
    "    plt.tight_layout()\n",
    "    plt.ylabel('True label')\n",
    "    plt.xlabel('Predicted label')\n",
    "    plt.show()"
   ]
  },
  {
   "cell_type": "code",
   "execution_count": 19,
   "metadata": {},
   "outputs": [
    {
     "name": "stdout",
     "output_type": "stream",
     "text": [
      "Confusion matrix, without normalization\n",
      "[[872   2  10  13   5   1  93   0   4   0]\n",
      " [  1 975   0  14   3   0   6   0   1   0]\n",
      " [ 23   1 804  10  70   0  87   0   5   0]\n",
      " [ 13   8  11 908  30   0  30   0   0   0]\n",
      " [  0   1  27  30 869   0  70   0   3   0]\n",
      " [  0   0   0   0   0 981   0  16   0   3]\n",
      " [112   0  33  19 102   1 725   0   8   0]\n",
      " [  0   0   0   0   0  14   0 978   0   8]\n",
      " [  4   0   5   5   5   3   2   5 971   0]\n",
      " [  0   0   0   0   0  10   1  49   0 940]]\n"
     ]
    },
    {
     "data": {
      "image/png": "[encoded data removed]",
      "text/plain": [
       "<Figure size 640x480 with 2 Axes>"
      ]
     },
     "metadata": {},
     "output_type": "display_data"
    }
   ],
   "source": [
    "# get predictions in an array and plot the confusion matrix\n",
    "x_test = test_dataset.data.numpy()\n",
    "y_test = test_dataset.targets.numpy()\n",
    "p_test = np.array([])\n",
    "\n",
    "for inputs, targets in test_loader:\n",
    "    # move data to device\n",
    "    inputs = inputs.to(device)\n",
    "    \n",
    "    # forward pass\n",
    "    outputs = model(inputs)\n",
    "    \n",
    "    # get predictions\n",
    "    _, predictions = torch.max(outputs, 1)\n",
    "    \n",
    "    # update p_test\n",
    "    p_test = np.concatenate((p_test, predictions.cpu().numpy()))\n",
    "    # need to bring the result back to cpu to process the plot\n",
    "    \n",
    "cm = confusion_matrix(y_test, p_test)\n",
    "plot_confusion_matrix(cm, list(range(10)))"
   ]
  }
 ],
 "metadata": {
  "kernelspec": {
   "display_name": "lazy_pytorch",
   "language": "python",
   "name": "python3"
  },
  "language_info": {
   "codemirror_mode": {
    "name": "ipython",
    "version": 3
   },
   "file_extension": ".py",
   "mimetype": "text/x-python",
   "name": "python",
   "nbconvert_exporter": "python",
   "pygments_lexer": "ipython3",
   "version": "3.8.19"
  }
 },
 "nbformat": 4,
 "nbformat_minor": 2
}
