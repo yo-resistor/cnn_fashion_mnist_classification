{
 "cells": [
  {
   "cell_type": "markdown",
   "metadata": {},
   "source": [
    "# Objective: Convolutional Neural Network Classification Using Fashion MNIST\n",
    "Here, I'm going to build an convolutional neural network classification model using PyTorch using fashion MNIST training data set."
   ]
  }
 ],
 "metadata": {
  "language_info": {
   "name": "python"
  }
 },
 "nbformat": 4,
 "nbformat_minor": 2
}
